{
 "cells": [
  {
   "cell_type": "markdown",
   "metadata": {},
   "source": [
    "# MELD Score (Model For End-Stage Liver Disease) (12 and older)\n",
    "https://www.mdcalc.com/meld-score-model-end-stage-liver-disease-12-older#evidence\n",
    "\n",
    "With the following Variables\n",
    "\n",
    "Creatinine (mg/dL) Norm = 0.7-1.3\n",
    "Cr >4.0 mg/dL is automatically assigned a value of 4.0\n",
    "\n",
    "Bilirubin (mg/dL) Norm = 0.3-1.9\n",
    "\n",
    "INR Norm 1-2\n",
    "\n",
    "Sodium (mEq/L) Norm 136-145\n",
    "\n",
    "FORMULA Per OPTN policy, January 2016 (pages 4–5):\n",
    "\n",
    "Candidates who are at least 12 years old receive an initial MELD(i) score equal to:\n",
    "\n",
    "**MELD(i) = 0.957 × ln(Cr) + 0.378 × ln(bilirubin) + 1.120 × ln(INR) + 0.643**\n",
    "\n",
    "Then, round to the tenth decimal place and multiply by 10. Maximum MELD = 40.\n",
    "\n",
    "If MELD(i) > 11, perform additional MELD calculation as follows:\n",
    "\n",
    "**MELD = MELD(i) + 1.32 × (137 – Na) –  [ 0.033 × MELD(i) × (137 – Na) ]**\n",
    "\n",
    "Additional rules:\n",
    "\n",
    "All values in US units (Cr and bilirubin in mg/dL, Na in mEq/L, and INR unitless).\n",
    "    \n",
    "    If bilirubin, Cr, or INR is <1.0, use 1.0.\n",
    "    \n",
    "    If any of the following is true, use Cr 4.0:\n",
    "    \n",
    "          Cr >4.0.\n",
    "    \n",
    "          ≥2 dialysis treatments within the prior 7 days.\n",
    "    \n",
    "          24 hours of continuous veno-venous hemodialysis (CVVHD) within the prior 7 days.\n",
    "    \n",
    "    If Na <125 mmol/L, use 125. If Na >137 mmol/L, use 137.\n",
    "\n",
    "**FACTS & FIGURES**\n",
    "\n",
    "Interpretation:\n",
    "\n",
    "\n",
    "|__MELD Score__ | __Mortality__|\n",
    "| --------------|--------------|\n",
    "|≤9   |1.9%|\n",
    "|10–19 |6.0%|\n",
    "|20–29|19.6%|\n",
    "|30–39|52.6%|\n",
    "|≥40|71.3%|"
   ]
  },
  {
   "cell_type": "code",
   "execution_count": 68,
   "metadata": {},
   "outputs": [],
   "source": [
    "import numpy as np "
   ]
  },
  {
   "cell_type": "code",
   "execution_count": 69,
   "metadata": {},
   "outputs": [],
   "source": [
    "CR=1.0\n",
    "BILIRUBIN=1.0\n",
    "INR=1.0\n",
    "NA = 133"
   ]
  },
  {
   "cell_type": "code",
   "execution_count": 70,
   "metadata": {},
   "outputs": [],
   "source": [
    "def calMELD (CR,BILIRUBIN,INR,NA):\n",
    "\n",
    "    MELDi = 0.957 * np.log(CR) + 0.378 * np.log(BILIRUBIN) + 1.120 * np.log(INR) + 0.643\n",
    "    MELDi = round(MELDi,1)*10.0\n",
    "\n",
    "  #  print (MELDi)\n",
    "\n",
    "    if MELDi > 11:\n",
    "        MELD = MELDi + 1.32 * (137.00 - NA) -  ( 0.033 * MELDi * (137.00 - NA) )\n",
    "    else:\n",
    "        MELD = MELDi\n",
    "\n",
    "    print (\"MELD Score:\" + str(MELD))\n",
    "\n",
    "    mortality = 0.000\n",
    "    if MELD <= 9.0:\n",
    "        mortality = 0.019\n",
    "    elif 10.00 <= MELD <= 19.00:\n",
    "        mortality = 0.06\n",
    "    elif 20.00 <= MELD <= 29.00:\n",
    "        mortality = 0.196\n",
    "    elif 30.00 <= MELD <= 39.00:\n",
    "        mortality = 0.526\n",
    "    elif MELD >= 40.0:\n",
    "        mortality = 0.713\n",
    "    \n",
    "    mortality = mortality*100.00\n",
    "    print (\"Mortality:\" + str(mortality) + \"%\")\n",
    "    "
   ]
  },
  {
   "cell_type": "code",
   "execution_count": 71,
   "metadata": {},
   "outputs": [
    {
     "name": "stdout",
     "output_type": "stream",
     "text": [
      "MELD Score:6.0\n",
      "Mortality:1.9%\n"
     ]
    }
   ],
   "source": [
    "calMELD(CR,BILIRUBIN,INR,NA)"
   ]
  },
  {
   "cell_type": "code",
   "execution_count": 86,
   "metadata": {},
   "outputs": [],
   "source": [
    "from fhirclient import client"
   ]
  },
  {
   "cell_type": "code",
   "execution_count": 87,
   "metadata": {},
   "outputs": [],
   "source": [
    "settings = {\n",
    "    'app_id': 'meld-cal',\n",
    "    'api_base': 'http://fhirtest.uhn.ca/baseDstu3/',    \n",
    "}\n",
    "smart = client.FHIRClient(settings=settings)"
   ]
  },
  {
   "cell_type": "code",
   "execution_count": 89,
   "metadata": {},
   "outputs": [
    {
     "name": "stdout",
     "output_type": "stream",
     "text": [
      "{'id': 'cf-1539714628834', 'meta': {'lastUpdated': '2018-10-16T19:46:19.668+00:00', 'versionId': '1'}, 'text': {'div': '<div xmlns=\"http://www.w3.org/1999/xhtml\">John Doe<a name=\"mm\"></a></div>', 'status': 'generated'}, 'birthDate': '1961-02-14', 'gender': 'male', 'identifier': [{'system': 'MYEMR', 'value': '992015019'}], 'name': [{'family': 'Doe', 'given': ['John'], 'use': 'usual'}], 'resourceType': 'Patient'}\n"
     ]
    }
   ],
   "source": [
    "import fhirclient.models.patient as p\n",
    "patient = p.Patient.read('cf-1539714628834',smart.server)\n",
    "smart.human_name(patient.name[0])\n",
    "print (patient.as_json())"
   ]
  },
  {
   "cell_type": "code",
   "execution_count": 90,
   "metadata": {},
   "outputs": [],
   "source": [
    "import fhirclient.models.observation as ob\n",
    "search = ob.Observation.where(struct={'subject':'Patient/cf-1539714628834'})\n",
    "observations = search.perform_resources(smart.server)"
   ]
  },
  {
   "cell_type": "code",
   "execution_count": 91,
   "metadata": {},
   "outputs": [
    {
     "name": "stdout",
     "output_type": "stream",
     "text": [
      "cf-1539715272504/2160-0:http://loinc.org\n",
      "{'id': 'cf-1539715272504', 'meta': {'lastUpdated': '2018-10-16T19:14:38.037+00:00', 'versionId': '3'}, 'text': {'div': '<div xmlns=\"http://www.w3.org/1999/xhtml\">Add Observation for MELD-CAL-Creatinine<a name=\"mm\"></a></div>', 'status': 'generated'}, 'category': [{'coding': [{'code': 'laboratory', 'display': 'Laboratory', 'system': 'http://hl7.org/fhir/observation-category'}]}], 'code': {'coding': [{'code': '2160-0', 'display': 'Creatinine', 'system': 'http://loinc.org'}]}, 'status': 'final', 'subject': {'reference': 'Patient/cf-1539714628834'}, 'valueQuantity': {'unit': 'mg/dL', 'value': 2}, 'resourceType': 'Observation'}\n",
      "cf-1539716460357/12907-2:http://loinc.org\n",
      "{'id': 'cf-1539716460357', 'meta': {'lastUpdated': '2018-10-16T19:14:38.030+00:00', 'versionId': '3'}, 'text': {'div': '<div xmlns=\"http://www.w3.org/1999/xhtml\">Add Observation for MELD-CAL-Sodium<a name=\"mm\"></a></div>', 'status': 'generated'}, 'category': [{'coding': [{'code': 'laboratory', 'display': 'Laboratory', 'system': 'http://hl7.org/fhir/observation-category'}]}], 'code': {'coding': [{'code': '12907-2', 'display': 'Sodium RBC-sCnc', 'system': 'http://loinc.org'}], 'text': 'Sodium [Moles/volume] in Red Blood Cells'}, 'identifier': [{'system': 'accession_num', 'value': '18-252-105910'}], 'status': 'final', 'subject': {'reference': 'Patient/cf-1539714628834'}, 'valueQuantity': {'unit': 'mEq/L', 'value': 145}, 'resourceType': 'Observation'}\n",
      "cf-1539715912412/LP15448-1:http://loinc.org\n",
      "{'id': 'cf-1539715912412', 'meta': {'lastUpdated': '2018-10-16T19:14:38.024+00:00', 'versionId': '3'}, 'text': {'div': '<div xmlns=\"http://www.w3.org/1999/xhtml\">Add Observation for MELD-CAL-Bilirubin<a name=\"mm\"></a></div>', 'status': 'generated'}, 'category': [{'coding': [{'code': 'laboratory', 'display': 'Laboratory', 'system': 'http://hl7.org/fhir/observation-category'}]}], 'code': {'coding': [{'code': 'LP15448-1', 'display': 'Bilirubin', 'system': 'http://loinc.org'}], 'text': 'Bilirubin'}, 'status': 'final', 'subject': {'reference': 'Patient/cf-1539714628834'}, 'valueQuantity': {'unit': 'mg/dL', 'value': 2.2}, 'resourceType': 'Observation'}\n",
      "cf-1539716323748/34714-6:http://loinc.org\n",
      "{'id': 'cf-1539716323748', 'meta': {'lastUpdated': '2018-10-16T19:46:19.639+00:00', 'versionId': '4'}, 'text': {'div': '<div xmlns=\"http://www.w3.org/1999/xhtml\">Add Observation for MELD-CAL-INR<a name=\"mm\"></a></div>', 'status': 'generated'}, 'category': [{'coding': [{'code': 'laboratory', 'display': 'Laboratory', 'system': 'http://hl7.org/fhir/observation-category'}]}], 'code': {'coding': [{'code': '34714-6', 'display': 'INR in Blood by Coagulation assay', 'system': 'http://loinc.org'}]}, 'identifier': [{'system': 'accession_num', 'value': '18-205-102590'}], 'status': 'final', 'subject': {'reference': 'Patient/cf-1539714628834'}, 'valueQuantity': {'unit': 'ratio', 'value': 1.5}, 'resourceType': 'Observation'}\n"
     ]
    }
   ],
   "source": [
    "for obs in observations:\n",
    "#    print(obs.as_json())\n",
    "    print(obs.id+\"/\"+obs.code.coding[0].code+\":\"+obs.code.coding[0].system)\n",
    "    print(obs.as_json())\n",
    "    if obs.code.coding[0].system == \"http://loinc.org\":\n",
    "        if obs.code.coding[0].code == '2160-0':\n",
    "            CR = obs.valueQuantity.value\n",
    "        elif obs.code.coding[0].code =='12907-2':\n",
    "            NA = obs.valueQuantity.value\n",
    "        elif obs.code.coding[0].code =='LP15448-1':\n",
    "            BILIRUBIN = obs.valueQuantity.value\n",
    "        elif obs.code.coding[0].code =='34714-6':\n",
    "            INR =  obs.valueQuantity.value\n"
   ]
  },
  {
   "cell_type": "code",
   "execution_count": 82,
   "metadata": {},
   "outputs": [
    {
     "name": "stdout",
     "output_type": "stream",
     "text": [
      "2\n",
      "145\n",
      "2.2\n",
      "1.5\n"
     ]
    }
   ],
   "source": [
    "print (CR)\n",
    "print (NA)\n",
    "print (BILIRUBIN)\n",
    "print (INR)"
   ]
  },
  {
   "cell_type": "code",
   "execution_count": 83,
   "metadata": {},
   "outputs": [
    {
     "name": "stdout",
     "output_type": "stream",
     "text": [
      "MELD Score:15.984\n",
      "Mortality:6.0%\n"
     ]
    }
   ],
   "source": [
    "calMELD(CR,BILIRUBIN,INR,NA)"
   ]
  },
  {
   "cell_type": "code",
   "execution_count": null,
   "metadata": {},
   "outputs": [],
   "source": []
  }
 ],
 "metadata": {
  "kernelspec": {
   "display_name": "Python 3",
   "language": "python",
   "name": "python3"
  },
  "language_info": {
   "codemirror_mode": {
    "name": "ipython",
    "version": 3
   },
   "file_extension": ".py",
   "mimetype": "text/x-python",
   "name": "python",
   "nbconvert_exporter": "python",
   "pygments_lexer": "ipython3",
   "version": "3.6.5"
  }
 },
 "nbformat": 4,
 "nbformat_minor": 2
}

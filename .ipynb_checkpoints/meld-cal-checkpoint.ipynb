{
 "cells": [
  {
   "cell_type": "markdown",
   "metadata": {},
   "source": [
    "\n",
    "\n"
   ]
  },
  {
   "cell_type": "markdown",
   "metadata": {},
   "source": [
    "# MELD Score (Model For End-Stage Liver Disease) (12 and older)\n",
    "https://www.mdcalc.com/meld-score-model-end-stage-liver-disease-12-older#evidence\n",
    "\n",
    "With the following Variables\n",
    "\n",
    "Creatinine (mg/dL) Norm = 0.7-1.3\n",
    "Cr >4.0 mg/dL is automatically assigned a value of 4.0\n",
    "\n",
    "Bilirubin (mg/dL) Norm = 0.3-1.9\n",
    "\n",
    "INR Norm 1-2\n",
    "\n",
    "Sodium (mEq/L) Norm 136-145\n",
    "\n",
    "FORMULA Per OPTN policy, January 2016 (pages 4–5):\n",
    "\n",
    "Candidates who are at least 12 years old receive an initial MELD(i) score equal to:\n",
    "\n",
    "**MELD(i) = 0.957 × ln(Cr) + 0.378 × ln(bilirubin) + 1.120 × ln(INR) + 0.643**\n",
    "\n",
    "Then, round to the tenth decimal place and multiply by 10. Maximum MELD = 40.\n",
    "\n",
    "If MELD(i) > 11, perform additional MELD calculation as follows:\n",
    "\n",
    "**MELD = MELD(i) + 1.32 × (137 – Na) –  [ 0.033 × MELD(i) × (137 – Na) ]**\n",
    "\n",
    "Additional rules:\n",
    "\n",
    "All values in US units (Cr and bilirubin in mg/dL, Na in mEq/L, and INR unitless).\n",
    "    \n",
    "    If bilirubin, Cr, or INR is <1.0, use 1.0.\n",
    "    \n",
    "    If any of the following is true, use Cr 4.0:\n",
    "    \n",
    "          Cr >4.0.\n",
    "    \n",
    "          ≥2 dialysis treatments within the prior 7 days.\n",
    "    \n",
    "          24 hours of continuous veno-venous hemodialysis (CVVHD) within the prior 7 days.\n",
    "    \n",
    "    If Na <125 mmol/L, use 125. If Na >137 mmol/L, use 137.\n",
    "\n",
    "**FACTS & FIGURES**\n",
    "\n",
    "Interpretation:\n",
    "\n",
    "\n",
    "|__MELD Score__ | __Mortality__|\n",
    "| --------------|--------------|\n",
    "|≤9   |1.9%|\n",
    "|10–19 |6.0%|\n",
    "|20–29|19.6%|\n",
    "|30–39|52.6%|\n",
    "|≥40|71.3%|"
   ]
  },
  {
   "cell_type": "code",
   "execution_count": 2,
   "metadata": {},
   "outputs": [
    {
     "ename": "ModuleNotFoundError",
     "evalue": "No module named 'numpy'",
     "output_type": "error",
     "traceback": [
      "\u001b[0;31m---------------------------------------------------------------------------\u001b[0m",
      "\u001b[0;31mModuleNotFoundError\u001b[0m                       Traceback (most recent call last)",
      "\u001b[0;32m<ipython-input-2-d004031e498e>\u001b[0m in \u001b[0;36m<module>\u001b[0;34m\u001b[0m\n\u001b[0;32m----> 1\u001b[0;31m \u001b[0;32mimport\u001b[0m \u001b[0mnumpy\u001b[0m \u001b[0;32mas\u001b[0m \u001b[0mnp\u001b[0m\u001b[0;34m\u001b[0m\u001b[0m\n\u001b[0m",
      "\u001b[0;31mModuleNotFoundError\u001b[0m: No module named 'numpy'"
     ]
    }
   ],
   "source": [
    "import numpy as np "
   ]
  },
  {
   "cell_type": "code",
   "execution_count": 1,
   "metadata": {},
   "outputs": [],
   "source": [
    "CR=1.7\n",
    "BILIRUBIN=2.0\n",
    "IND=2.0\n",
    "NA = 150"
   ]
  },
  {
   "cell_type": "code",
   "execution_count": null,
   "metadata": {},
   "outputs": [],
   "source": [
    "MELD(i) = 0.957 × ln(Cr) + 0.378 × ln(bilirubin) + 1.120 × ln(INR) + 0.643"
   ]
  }
 ],
 "metadata": {
  "kernelspec": {
   "display_name": "Python 3",
   "language": "python",
   "name": "python3"
  },
  "language_info": {
   "codemirror_mode": {
    "name": "ipython",
    "version": 3
   },
   "file_extension": ".py",
   "mimetype": "text/x-python",
   "name": "python",
   "nbconvert_exporter": "python",
   "pygments_lexer": "ipython3",
   "version": "3.6.5"
  }
 },
 "nbformat": 4,
 "nbformat_minor": 2
}

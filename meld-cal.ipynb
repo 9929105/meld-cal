{
 "cells": [
  {
   "cell_type": "markdown",
   "metadata": {},
   "source": [
    "# MELD Score (Model For End-Stage Liver Disease) (12 and older)\n",
    "https://www.mdcalc.com/meld-score-model-end-stage-liver-disease-12-older#evidence\n",
    "\n",
    "With the following Variables\n",
    "\n",
    "Creatinine (mg/dL) Norm = 0.7-1.3\n",
    "Cr >4.0 mg/dL is automatically assigned a value of 4.0\n",
    "\n",
    "Bilirubin (mg/dL) Norm = 0.3-1.9\n",
    "\n",
    "INR Norm 1-2\n",
    "\n",
    "Sodium (mEq/L) Norm 136-145\n",
    "\n",
    "FORMULA Per OPTN policy, January 2016 (pages 4–5):\n",
    "\n",
    "Candidates who are at least 12 years old receive an initial MELD(i) score equal to:\n",
    "\n",
    "**MELD(i) = 0.957 × ln(Cr) + 0.378 × ln(bilirubin) + 1.120 × ln(INR) + 0.643**\n",
    "\n",
    "Then, round to the tenth decimal place and multiply by 10. Maximum MELD = 40.\n",
    "\n",
    "If MELD(i) > 11, perform additional MELD calculation as follows:\n",
    "\n",
    "**MELD = MELD(i) + 1.32 × (137 – Na) –  [ 0.033 × MELD(i) × (137 – Na) ]**\n",
    "\n",
    "Additional rules:\n",
    "\n",
    "All values in US units (Cr and bilirubin in mg/dL, Na in mEq/L, and INR unitless).\n",
    "    \n",
    "    If bilirubin, Cr, or INR is <1.0, use 1.0.\n",
    "    \n",
    "    If any of the following is true, use Cr 4.0:\n",
    "    \n",
    "          Cr >4.0.\n",
    "    \n",
    "          ≥2 dialysis treatments within the prior 7 days.\n",
    "    \n",
    "          24 hours of continuous veno-venous hemodialysis (CVVHD) within the prior 7 days.\n",
    "    \n",
    "    If Na <125 mmol/L, use 125. If Na >137 mmol/L, use 137.\n",
    "\n",
    "**FACTS & FIGURES**\n",
    "\n",
    "Interpretation:\n",
    "\n",
    "\n",
    "|__MELD Score__ | __Mortality__|\n",
    "| --------------|--------------|\n",
    "|≤9   |1.9%|\n",
    "|10–19 |6.0%|\n",
    "|20–29|19.6%|\n",
    "|30–39|52.6%|\n",
    "|≥40|71.3%|"
   ]
  },
  {
   "cell_type": "code",
   "execution_count": 1,
   "metadata": {},
   "outputs": [],
   "source": [
    "import numpy as np "
   ]
  },
  {
   "cell_type": "code",
   "execution_count": 127,
   "metadata": {},
   "outputs": [],
   "source": [
    "CR=1.0\n",
    "BILIRUBIN=1.0\n",
    "INR=1.0\n",
    "NA = 133"
   ]
  },
  {
   "cell_type": "code",
   "execution_count": 128,
   "metadata": {},
   "outputs": [],
   "source": [
    "def calMELD (CR,BILIRUBIN,INR,NA):\n",
    "\n",
    "    MELDi = 0.957 * np.log(CR) + 0.378 * np.log(BILIRUBIN) + 1.120 * np.log(INR) + 0.643\n",
    "    MELDi = round(MELDi,1)*10.0\n",
    "\n",
    "    print (MELDi)\n",
    "\n",
    "    if MELDi > 11:\n",
    "        MELD = MELDi + 1.32 * (137.00 - NA) -  ( 0.033 * MELDi * (137.00 - NA) )\n",
    "    else:\n",
    "        MELD = MELDi\n",
    "\n",
    "    print (MELD)\n",
    "\n",
    "    mortality = 0.000\n",
    "    if MELD <= 9.0:\n",
    "        mortality = 0.019\n",
    "    elif 10.00 <= MELD <= 19.00:\n",
    "        mortality = 0.06\n",
    "    elif 20.00 <= MELD <= 29.00:\n",
    "        mortality = 0.196\n",
    "    elif 30.00 <= MELD <= 39.00:\n",
    "        mortality = 0.526\n",
    "    elif MELD >= 40.0:\n",
    "        mortality = 0.713\n",
    "    \n",
    "    mortality = mortality*100.00\n",
    "    print (mortality)\n",
    "    "
   ]
  },
  {
   "cell_type": "code",
   "execution_count": 129,
   "metadata": {},
   "outputs": [
    {
     "name": "stdout",
     "output_type": "stream",
     "text": [
      "6.0\n",
      "6.0\n",
      "1.9\n"
     ]
    }
   ],
   "source": [
    "calMELD(CR,BILIRUBIN,INR,NA)"
   ]
  },
  {
   "cell_type": "code",
   "execution_count": null,
   "metadata": {},
   "outputs": [],
   "source": []
  }
 ],
 "metadata": {
  "kernelspec": {
   "display_name": "Python 3",
   "language": "python",
   "name": "python3"
  },
  "language_info": {
   "codemirror_mode": {
    "name": "ipython",
    "version": 3
   },
   "file_extension": ".py",
   "mimetype": "text/x-python",
   "name": "python",
   "nbconvert_exporter": "python",
   "pygments_lexer": "ipython3",
   "version": "3.6.5"
  }
 },
 "nbformat": 4,
 "nbformat_minor": 2
}
